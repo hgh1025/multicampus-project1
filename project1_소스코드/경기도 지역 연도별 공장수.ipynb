{
 "cells": [
  {
   "cell_type": "code",
   "execution_count": 2,
   "id": "1f3fb0ae",
   "metadata": {},
   "outputs": [
    {
     "name": "stderr",
     "output_type": "stream",
     "text": [
      "C:\\ProgramData\\Anaconda3\\lib\\site-packages\\openpyxl\\styles\\stylesheet.py:226: UserWarning: Workbook contains no default style, apply openpyxl's default\n",
      "  warn(\"Workbook contains no default style, apply openpyxl's default\")\n"
     ]
    },
    {
     "data": {
      "text/html": [
       "<div>\n",
       "<style scoped>\n",
       "    .dataframe tbody tr th:only-of-type {\n",
       "        vertical-align: middle;\n",
       "    }\n",
       "\n",
       "    .dataframe tbody tr th {\n",
       "        vertical-align: top;\n",
       "    }\n",
       "\n",
       "    .dataframe thead th {\n",
       "        text-align: right;\n",
       "    }\n",
       "</style>\n",
       "<table border=\"1\" class=\"dataframe\">\n",
       "  <thead>\n",
       "    <tr style=\"text-align: right;\">\n",
       "      <th></th>\n",
       "      <th>업종별</th>\n",
       "      <th>2006.1/2</th>\n",
       "      <th>2006.2/2</th>\n",
       "      <th>2007.1/2</th>\n",
       "      <th>2007.2/2</th>\n",
       "      <th>2008.2/2</th>\n",
       "      <th>2009.1/2</th>\n",
       "      <th>2009.2/2</th>\n",
       "      <th>2010.1/2</th>\n",
       "      <th>2010.2/2</th>\n",
       "      <th>...</th>\n",
       "      <th>2017.2/2</th>\n",
       "      <th>2018.1/2</th>\n",
       "      <th>2018.2/2</th>\n",
       "      <th>2019.1/2</th>\n",
       "      <th>2019.2/2</th>\n",
       "      <th>2020.1/2</th>\n",
       "      <th>2020.2/2</th>\n",
       "      <th>2021.1/2</th>\n",
       "      <th>2021.2/2</th>\n",
       "      <th>2022.1/2</th>\n",
       "    </tr>\n",
       "  </thead>\n",
       "  <tbody>\n",
       "    <tr>\n",
       "      <th>0</th>\n",
       "      <td>업종별</td>\n",
       "      <td>경기</td>\n",
       "      <td>경기</td>\n",
       "      <td>경기</td>\n",
       "      <td>경기</td>\n",
       "      <td>경기</td>\n",
       "      <td>경기</td>\n",
       "      <td>경기</td>\n",
       "      <td>경기</td>\n",
       "      <td>경기</td>\n",
       "      <td>...</td>\n",
       "      <td>경기</td>\n",
       "      <td>경기</td>\n",
       "      <td>경기</td>\n",
       "      <td>경기</td>\n",
       "      <td>경기</td>\n",
       "      <td>경기</td>\n",
       "      <td>경기</td>\n",
       "      <td>경기</td>\n",
       "      <td>경기</td>\n",
       "      <td>경기</td>\n",
       "    </tr>\n",
       "    <tr>\n",
       "      <th>1</th>\n",
       "      <td>계</td>\n",
       "      <td>38612.0</td>\n",
       "      <td>39891.0</td>\n",
       "      <td>42119.0</td>\n",
       "      <td>44043.0</td>\n",
       "      <td>46877.0</td>\n",
       "      <td>48056.0</td>\n",
       "      <td>49542.0</td>\n",
       "      <td>50785.0</td>\n",
       "      <td>51176.0</td>\n",
       "      <td>...</td>\n",
       "      <td>66586.0</td>\n",
       "      <td>67571.0</td>\n",
       "      <td>68681.0</td>\n",
       "      <td>69573.0</td>\n",
       "      <td>70085.0</td>\n",
       "      <td>69413.0</td>\n",
       "      <td>70243.0</td>\n",
       "      <td>71325.0</td>\n",
       "      <td>72189.0</td>\n",
       "      <td>73075.0</td>\n",
       "    </tr>\n",
       "  </tbody>\n",
       "</table>\n",
       "<p>2 rows × 33 columns</p>\n",
       "</div>"
      ],
      "text/plain": [
       "   업종별 2006.1/2 2006.2/2 2007.1/2 2007.2/2 2008.2/2 2009.1/2 2009.2/2  \\\n",
       "0  업종별       경기       경기       경기       경기       경기       경기       경기   \n",
       "1    계  38612.0  39891.0  42119.0  44043.0  46877.0  48056.0  49542.0   \n",
       "\n",
       "  2010.1/2 2010.2/2  ... 2017.2/2 2018.1/2 2018.2/2 2019.1/2 2019.2/2  \\\n",
       "0       경기       경기  ...       경기       경기       경기       경기       경기   \n",
       "1  50785.0  51176.0  ...  66586.0  67571.0  68681.0  69573.0  70085.0   \n",
       "\n",
       "  2020.1/2 2020.2/2 2021.1/2 2021.2/2 2022.1/2  \n",
       "0       경기       경기       경기       경기       경기  \n",
       "1  69413.0  70243.0  71325.0  72189.0  73075.0  \n",
       "\n",
       "[2 rows x 33 columns]"
      ]
     },
     "execution_count": 2,
     "metadata": {},
     "output_type": "execute_result"
    }
   ],
   "source": [
    "# 구직율\n",
    "import pandas as pd\n",
    "import matplotlib.pyplot as plt\n",
    "import matplotlib\n",
    "import numpy as np\n",
    "\n",
    "\n",
    "matplotlib.rcParams['font.family']='Malgun Gothic'  # 한글 표시\n",
    "matplotlib.rcParams['font.size']=15\n",
    "matplotlib.rcParams['axes.unicode_minus']=False\n",
    "\n",
    "df = pd.read_excel(\"C:/mypycode/project/Gyeonggi.xlsx\") #skiprows 는 불필요한 행을 삭제.\n",
    "df\n"
   ]
  },
  {
   "cell_type": "code",
   "execution_count": 18,
   "id": "676f089e",
   "metadata": {},
   "outputs": [
    {
     "data": {
      "text/html": [
       "<div>\n",
       "<style scoped>\n",
       "    .dataframe tbody tr th:only-of-type {\n",
       "        vertical-align: middle;\n",
       "    }\n",
       "\n",
       "    .dataframe tbody tr th {\n",
       "        vertical-align: top;\n",
       "    }\n",
       "\n",
       "    .dataframe thead th {\n",
       "        text-align: right;\n",
       "    }\n",
       "</style>\n",
       "<table border=\"1\" class=\"dataframe\">\n",
       "  <thead>\n",
       "    <tr style=\"text-align: right;\">\n",
       "      <th></th>\n",
       "      <th>2013.1/2</th>\n",
       "      <th>2015.1/2</th>\n",
       "      <th>2017.1/2</th>\n",
       "      <th>2019.1/2</th>\n",
       "      <th>2021.1/2</th>\n",
       "    </tr>\n",
       "  </thead>\n",
       "  <tbody>\n",
       "    <tr>\n",
       "      <th>0</th>\n",
       "      <td>경기</td>\n",
       "      <td>경기</td>\n",
       "      <td>경기</td>\n",
       "      <td>경기</td>\n",
       "      <td>경기</td>\n",
       "    </tr>\n",
       "    <tr>\n",
       "      <th>1</th>\n",
       "      <td>55873.0</td>\n",
       "      <td>61398.0</td>\n",
       "      <td>65559.0</td>\n",
       "      <td>69573.0</td>\n",
       "      <td>71325.0</td>\n",
       "    </tr>\n",
       "  </tbody>\n",
       "</table>\n",
       "</div>"
      ],
      "text/plain": [
       "  2013.1/2 2015.1/2 2017.1/2 2019.1/2 2021.1/2\n",
       "0       경기       경기       경기       경기       경기\n",
       "1  55873.0  61398.0  65559.0  69573.0  71325.0"
      ]
     },
     "execution_count": 18,
     "metadata": {},
     "output_type": "execute_result"
    }
   ],
   "source": [
    "df1 = df.iloc[0: , [14,18,22,26,30]]\n",
    "df1"
   ]
  },
  {
   "cell_type": "code",
   "execution_count": 43,
   "id": "f37bbcf4",
   "metadata": {},
   "outputs": [
    {
     "data": {
      "text/html": [
       "<div>\n",
       "<style scoped>\n",
       "    .dataframe tbody tr th:only-of-type {\n",
       "        vertical-align: middle;\n",
       "    }\n",
       "\n",
       "    .dataframe tbody tr th {\n",
       "        vertical-align: top;\n",
       "    }\n",
       "\n",
       "    .dataframe thead th {\n",
       "        text-align: right;\n",
       "    }\n",
       "</style>\n",
       "<table border=\"1\" class=\"dataframe\">\n",
       "  <thead>\n",
       "    <tr style=\"text-align: right;\">\n",
       "      <th>2013.1/2</th>\n",
       "      <th>경기</th>\n",
       "      <th>55873.0</th>\n",
       "    </tr>\n",
       "  </thead>\n",
       "  <tbody>\n",
       "    <tr>\n",
       "      <th>2015.1/2</th>\n",
       "      <td>경기</td>\n",
       "      <td>61398.0</td>\n",
       "    </tr>\n",
       "    <tr>\n",
       "      <th>2017.1/2</th>\n",
       "      <td>경기</td>\n",
       "      <td>65559.0</td>\n",
       "    </tr>\n",
       "    <tr>\n",
       "      <th>2019.1/2</th>\n",
       "      <td>경기</td>\n",
       "      <td>69573.0</td>\n",
       "    </tr>\n",
       "    <tr>\n",
       "      <th>2021.1/2</th>\n",
       "      <td>경기</td>\n",
       "      <td>71325.0</td>\n",
       "    </tr>\n",
       "  </tbody>\n",
       "</table>\n",
       "</div>"
      ],
      "text/plain": [
       "2013.1/2  경기  55873.0\n",
       "2015.1/2  경기  61398.0\n",
       "2017.1/2  경기  65559.0\n",
       "2019.1/2  경기  69573.0\n",
       "2021.1/2  경기  71325.0"
      ]
     },
     "execution_count": 43,
     "metadata": {},
     "output_type": "execute_result"
    }
   ],
   "source": [
    "df2 = df1.set_index(['2013.1/2']) #열을 index로 바꾸기\n",
    "df3 = df2.T\n",
    "df3"
   ]
  },
  {
   "cell_type": "code",
   "execution_count": 46,
   "id": "b9ce47ee",
   "metadata": {},
   "outputs": [
    {
     "ename": "ValueError",
     "evalue": "plot is not a valid plot kind",
     "output_type": "error",
     "traceback": [
      "\u001b[1;31m---------------------------------------------------------------------------\u001b[0m",
      "\u001b[1;31mValueError\u001b[0m                                Traceback (most recent call last)",
      "Input \u001b[1;32mIn [46]\u001b[0m, in \u001b[0;36m<cell line: 2>\u001b[1;34m()\u001b[0m\n\u001b[0;32m      1\u001b[0m \u001b[38;5;66;03m# 차트 종류, 제목, 차트 크기, 범례, 폰트 크기 설정\u001b[39;00m\n\u001b[1;32m----> 2\u001b[0m ax \u001b[38;5;241m=\u001b[39m \u001b[43mdf3\u001b[49m\u001b[38;5;241;43m.\u001b[39;49m\u001b[43mplot\u001b[49m\u001b[43m(\u001b[49m\u001b[43mkind\u001b[49m\u001b[38;5;241;43m=\u001b[39;49m\u001b[38;5;124;43m'\u001b[39;49m\u001b[38;5;124;43mplot\u001b[39;49m\u001b[38;5;124;43m'\u001b[39;49m\u001b[43m,\u001b[49m\u001b[43m \u001b[49m\u001b[43mtitle\u001b[49m\u001b[38;5;241;43m=\u001b[39;49m\u001b[38;5;124;43m'\u001b[39;49m\u001b[38;5;124;43m지역별 생산직 취업수\u001b[39;49m\u001b[38;5;124;43m'\u001b[39;49m\u001b[43m,\u001b[49m\u001b[43m \u001b[49m\u001b[43mfigsize\u001b[49m\u001b[38;5;241;43m=\u001b[39;49m\u001b[43m(\u001b[49m\u001b[38;5;241;43m14\u001b[39;49m\u001b[43m,\u001b[49m\u001b[38;5;241;43m10\u001b[39;49m\u001b[43m)\u001b[49m\u001b[43m,\u001b[49m\u001b[43m \u001b[49m\u001b[43mlegend\u001b[49m\u001b[38;5;241;43m=\u001b[39;49m\u001b[38;5;28;43;01mTrue\u001b[39;49;00m\u001b[43m,\u001b[49m\u001b[43m \u001b[49m\u001b[43mfontsize\u001b[49m\u001b[38;5;241;43m=\u001b[39;49m\u001b[38;5;241;43m12\u001b[39;49m\u001b[43m \u001b[49m\u001b[43m,\u001b[49m\u001b[43mgrid\u001b[49m\u001b[38;5;241;43m=\u001b[39;49m\u001b[43m \u001b[49m\u001b[38;5;28;43;01mTrue\u001b[39;49;00m\u001b[43m \u001b[49m\u001b[43m,\u001b[49m\u001b[43m \u001b[49m\u001b[43mwidth\u001b[49m\u001b[43m \u001b[49m\u001b[38;5;241;43m=\u001b[39;49m\u001b[43m \u001b[49m\u001b[38;5;241;43m0.8\u001b[39;49m\u001b[43m)\u001b[49m\n\u001b[0;32m      3\u001b[0m ax\u001b[38;5;241m.\u001b[39mset_xlabel(\u001b[38;5;124m'\u001b[39m\u001b[38;5;124m취업수\u001b[39m\u001b[38;5;124m'\u001b[39m, fontsize\u001b[38;5;241m=\u001b[39m\u001b[38;5;241m15\u001b[39m)          \u001b[38;5;66;03m# x축 정보 표시\u001b[39;00m\n\u001b[0;32m      4\u001b[0m ax\u001b[38;5;241m.\u001b[39mset_ylabel(\u001b[38;5;124m'\u001b[39m\u001b[38;5;124m행정구역(시도)\t\u001b[39m\u001b[38;5;124m'\u001b[39m, fontsize\u001b[38;5;241m=\u001b[39m\u001b[38;5;241m15\u001b[39m)     \u001b[38;5;66;03m# y축 정보 표시\u001b[39;00m\n",
      "File \u001b[1;32mC:\\ProgramData\\Anaconda3\\lib\\site-packages\\pandas\\plotting\\_core.py:905\u001b[0m, in \u001b[0;36mPlotAccessor.__call__\u001b[1;34m(self, *args, **kwargs)\u001b[0m\n\u001b[0;32m    902\u001b[0m     \u001b[38;5;28;01mreturn\u001b[39;00m plot_backend\u001b[38;5;241m.\u001b[39mplot(\u001b[38;5;28mself\u001b[39m\u001b[38;5;241m.\u001b[39m_parent, x\u001b[38;5;241m=\u001b[39mx, y\u001b[38;5;241m=\u001b[39my, kind\u001b[38;5;241m=\u001b[39mkind, \u001b[38;5;241m*\u001b[39m\u001b[38;5;241m*\u001b[39mkwargs)\n\u001b[0;32m    904\u001b[0m \u001b[38;5;28;01mif\u001b[39;00m kind \u001b[38;5;129;01mnot\u001b[39;00m \u001b[38;5;129;01min\u001b[39;00m \u001b[38;5;28mself\u001b[39m\u001b[38;5;241m.\u001b[39m_all_kinds:\n\u001b[1;32m--> 905\u001b[0m     \u001b[38;5;28;01mraise\u001b[39;00m \u001b[38;5;167;01mValueError\u001b[39;00m(\u001b[38;5;124mf\u001b[39m\u001b[38;5;124m\"\u001b[39m\u001b[38;5;132;01m{\u001b[39;00mkind\u001b[38;5;132;01m}\u001b[39;00m\u001b[38;5;124m is not a valid plot kind\u001b[39m\u001b[38;5;124m\"\u001b[39m)\n\u001b[0;32m    907\u001b[0m \u001b[38;5;66;03m# The original data structured can be transformed before passed to the\u001b[39;00m\n\u001b[0;32m    908\u001b[0m \u001b[38;5;66;03m# backend. For example, for DataFrame is common to set the index as the\u001b[39;00m\n\u001b[0;32m    909\u001b[0m \u001b[38;5;66;03m# `x` parameter, and return a Series with the parameter `y` as values.\u001b[39;00m\n\u001b[0;32m    910\u001b[0m data \u001b[38;5;241m=\u001b[39m \u001b[38;5;28mself\u001b[39m\u001b[38;5;241m.\u001b[39m_parent\u001b[38;5;241m.\u001b[39mcopy()\n",
      "\u001b[1;31mValueError\u001b[0m: plot is not a valid plot kind"
     ]
    }
   ],
   "source": [
    "\n",
    "# 차트 종류, 제목, 차트 크기, 범례, 폰트 크기 설정\n",
    "ax = df3.plot(kind='plot', title='지역별 생산직 취업수', figsize=(14,10), legend=True, fontsize=12 ,grid= True , width = 0.8)\n",
    "ax.set_xlabel('취업수', fontsize=15)          # x축 정보 표시\n",
    "ax.set_ylabel('행정구역(시도)\t', fontsize=15)     # y축 정보 표시\n",
    "ax.legend(['2013년','2015년','2017년','2019년'], fontsize=15)    # 범례 지정\n",
    "plt.show()"
   ]
  },
  {
   "cell_type": "code",
   "execution_count": 59,
   "id": "0711740c",
   "metadata": {},
   "outputs": [
    {
     "data": {
      "text/plain": [
       "<matplotlib.legend.Legend at 0x1b9ba53dfa0>"
      ]
     },
     "execution_count": 59,
     "metadata": {},
     "output_type": "execute_result"
    },
    {
     "data": {
      "image/png": "[encoded data removed]",
      "text/plain": [
       "<Figure size 432x288 with 1 Axes>"
      ]
     },
     "metadata": {
      "needs_background": "light"
     },
     "output_type": "display_data"
    }
   ],
   "source": [
    "rain_plot = df3.plot(grid = True , style = ['r--*'])\n",
    "rain_plot.set_title(\"경기도 지역 연도별 공장수\")\n",
    "rain_plot.set_xlabel(\"연도\")\n",
    "rain_plot.set_ylabel(\"공장수\")\n",
    "rain_plot.legend([\"경기도\"])"
   ]
  },
  {
   "cell_type": "code",
   "execution_count": 42,
   "id": "86012472",
   "metadata": {},
   "outputs": [
    {
     "ename": "AttributeError",
     "evalue": "'DataFrame' object has no attribute 'plot_hist'",
     "output_type": "error",
     "traceback": [
      "\u001b[1;31m---------------------------------------------------------------------------\u001b[0m",
      "\u001b[1;31mAttributeError\u001b[0m                            Traceback (most recent call last)",
      "Input \u001b[1;32mIn [42]\u001b[0m, in \u001b[0;36m<cell line: 6>\u001b[1;34m()\u001b[0m\n\u001b[0;32m      4\u001b[0m df_values \u001b[38;5;241m=\u001b[39m pd\u001b[38;5;241m.\u001b[39mDataFrame(values, columns \u001b[38;5;241m=\u001b[39m [\u001b[38;5;124m'\u001b[39m\u001b[38;5;124m경기도\u001b[39m\u001b[38;5;124m'\u001b[39m])\n\u001b[0;32m      5\u001b[0m df_values\n\u001b[1;32m----> 6\u001b[0m values_hist \u001b[38;5;241m=\u001b[39m \u001b[43mdf_values\u001b[49m\u001b[38;5;241;43m.\u001b[39;49m\u001b[43mplot_hist\u001b[49m(bins\u001b[38;5;241m=\u001b[39m\u001b[38;5;241m8\u001b[39m,grid \u001b[38;5;241m=\u001b[39m \u001b[38;5;28;01mTrue\u001b[39;00m)\n\u001b[0;32m      7\u001b[0m values_hist\u001b[38;5;241m.\u001b[39mset_xlabel(\u001b[38;5;124m\"\u001b[39m\u001b[38;5;124m연도\u001b[39m\u001b[38;5;124m\"\u001b[39m)\n\u001b[0;32m      8\u001b[0m values_hist\u001b[38;5;241m.\u001b[39mset_ylabel(\u001b[38;5;124m\"\u001b[39m\u001b[38;5;124m공장 수\u001b[39m\u001b[38;5;124m\"\u001b[39m)\n",
      "File \u001b[1;32mC:\\ProgramData\\Anaconda3\\lib\\site-packages\\pandas\\core\\generic.py:5575\u001b[0m, in \u001b[0;36mNDFrame.__getattr__\u001b[1;34m(self, name)\u001b[0m\n\u001b[0;32m   5568\u001b[0m \u001b[38;5;28;01mif\u001b[39;00m (\n\u001b[0;32m   5569\u001b[0m     name \u001b[38;5;129;01mnot\u001b[39;00m \u001b[38;5;129;01min\u001b[39;00m \u001b[38;5;28mself\u001b[39m\u001b[38;5;241m.\u001b[39m_internal_names_set\n\u001b[0;32m   5570\u001b[0m     \u001b[38;5;129;01mand\u001b[39;00m name \u001b[38;5;129;01mnot\u001b[39;00m \u001b[38;5;129;01min\u001b[39;00m \u001b[38;5;28mself\u001b[39m\u001b[38;5;241m.\u001b[39m_metadata\n\u001b[0;32m   5571\u001b[0m     \u001b[38;5;129;01mand\u001b[39;00m name \u001b[38;5;129;01mnot\u001b[39;00m \u001b[38;5;129;01min\u001b[39;00m \u001b[38;5;28mself\u001b[39m\u001b[38;5;241m.\u001b[39m_accessors\n\u001b[0;32m   5572\u001b[0m     \u001b[38;5;129;01mand\u001b[39;00m \u001b[38;5;28mself\u001b[39m\u001b[38;5;241m.\u001b[39m_info_axis\u001b[38;5;241m.\u001b[39m_can_hold_identifiers_and_holds_name(name)\n\u001b[0;32m   5573\u001b[0m ):\n\u001b[0;32m   5574\u001b[0m     \u001b[38;5;28;01mreturn\u001b[39;00m \u001b[38;5;28mself\u001b[39m[name]\n\u001b[1;32m-> 5575\u001b[0m \u001b[38;5;28;01mreturn\u001b[39;00m \u001b[38;5;28;43mobject\u001b[39;49m\u001b[38;5;241;43m.\u001b[39;49m\u001b[38;5;21;43m__getattribute__\u001b[39;49m\u001b[43m(\u001b[49m\u001b[38;5;28;43mself\u001b[39;49m\u001b[43m,\u001b[49m\u001b[43m \u001b[49m\u001b[43mname\u001b[49m\u001b[43m)\u001b[49m\n",
      "\u001b[1;31mAttributeError\u001b[0m: 'DataFrame' object has no attribute 'plot_hist'"
     ]
    }
   ],
   "source": [
    "year =['2015.1/2', '2017.1/2', '2019.1/2', '2021.1/2']\n",
    "\n",
    "values = [61398.0, 65559.0, 69573.0, 71325.0]\n",
    "df_values = pd.DataFrame(values, columns = ['경기도'])\n",
    "df_values\n",
    "values_hist = df_values.plot_hist(bins=8,grid = True)\n",
    "values_hist.set_xlabel(\"연도\")\n",
    "values_hist.set_ylabel(\"공장 수\")\n",
    "values_hist.set_title(\"경기도 지역 연도별 공장 수\")\n",
    "plt.show()"
   ]
  },
  {
   "cell_type": "code",
   "execution_count": null,
   "id": "befd9a48",
   "metadata": {},
   "outputs": [],
   "source": [
    "\n",
    "# 차트 종류, 제목, 차트 크기, 범례, 폰트 크기 설정\n",
    "ax = df2.plot(kind='barh', title='지역별 생산직 취업수', figsize=(14,10), legend=True, fontsize=12 ,grid= True , width = 0.8)\n",
    "ax.set_xlabel('취업수', fontsize=15)          # x축 정보 표시\n",
    "ax.set_ylabel('행정구역(시도)\t', fontsize=15)     # y축 정보 표시\n",
    "ax.legend(['2013년','2015년','2017년','2019년'], fontsize=15)    # 범례 지정\n",
    "plt.show()"
   ]
  }
 ],
 "metadata": {
  "kernelspec": {
   "display_name": "Python 3 (ipykernel)",
   "language": "python",
   "name": "python3"
  },
  "language_info": {
   "codemirror_mode": {
    "name": "ipython",
    "version": 3
   },
   "file_extension": ".py",
   "mimetype": "text/x-python",
   "name": "python",
   "nbconvert_exporter": "python",
   "pygments_lexer": "ipython3",
   "version": "3.9.12"
  }
 },
 "nbformat": 4,
 "nbformat_minor": 5
}
