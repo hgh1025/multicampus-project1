{
 "cells": [
  {
   "cell_type": "code",
   "execution_count": 17,
   "id": "f2fb04b1",
   "metadata": {},
   "outputs": [
    {
     "data": {
      "text/html": [
       "<div>\n",
       "<style scoped>\n",
       "    .dataframe tbody tr th:only-of-type {\n",
       "        vertical-align: middle;\n",
       "    }\n",
       "\n",
       "    .dataframe tbody tr th {\n",
       "        vertical-align: top;\n",
       "    }\n",
       "\n",
       "    .dataframe thead th {\n",
       "        text-align: right;\n",
       "    }\n",
       "</style>\n",
       "<table border=\"1\" class=\"dataframe\">\n",
       "  <thead>\n",
       "    <tr style=\"text-align: right;\">\n",
       "      <th></th>\n",
       "      <th>총계</th>\n",
       "      <th>제조업</th>\n",
       "      <th>4704</th>\n",
       "      <th>4734</th>\n",
       "      <th>4741</th>\n",
       "      <th>4813</th>\n",
       "    </tr>\n",
       "  </thead>\n",
       "  <tbody>\n",
       "    <tr>\n",
       "      <th>0</th>\n",
       "      <td>남자</td>\n",
       "      <td>제조업</td>\n",
       "      <td>3432</td>\n",
       "      <td>3461</td>\n",
       "      <td>3491</td>\n",
       "      <td>3537</td>\n",
       "    </tr>\n",
       "    <tr>\n",
       "      <th>1</th>\n",
       "      <td>여자</td>\n",
       "      <td>제조업</td>\n",
       "      <td>1272</td>\n",
       "      <td>1274</td>\n",
       "      <td>1249</td>\n",
       "      <td>1276</td>\n",
       "    </tr>\n",
       "  </tbody>\n",
       "</table>\n",
       "</div>"
      ],
      "text/plain": [
       "   총계  제조업  4704  4734  4741  4813\n",
       "0  남자  제조업  3432  3461  3491  3537\n",
       "1  여자  제조업  1272  1274  1249  1276"
      ]
     },
     "execution_count": 17,
     "metadata": {},
     "output_type": "execute_result"
    }
   ],
   "source": [
    "import pandas as pd\n",
    "import numpy as np\n",
    "import matplotlib.pyplot as plt\n",
    "import matplotlib\n",
    "import seaborn as sns\n",
    "\n",
    "matplotlib.rcParams['font.family']='Malgun Gothic'  # 한글 표시\n",
    "matplotlib.rcParams['font.size']=15\n",
    "matplotlib.rcParams['axes.unicode_minus']=False\n",
    "\n",
    "df = pd.read_excel(\"C:/mypycode/project/job_of_sex.xlsx\", skiprows=2) #파일 불러오기\n",
    "df\n"
   ]
  },
  {
   "cell_type": "code",
   "execution_count": 18,
   "id": "094a90d0",
   "metadata": {},
   "outputs": [
    {
     "data": {
      "text/html": [
       "<div>\n",
       "<style scoped>\n",
       "    .dataframe tbody tr th:only-of-type {\n",
       "        vertical-align: middle;\n",
       "    }\n",
       "\n",
       "    .dataframe tbody tr th {\n",
       "        vertical-align: top;\n",
       "    }\n",
       "\n",
       "    .dataframe thead th {\n",
       "        text-align: right;\n",
       "    }\n",
       "</style>\n",
       "<table border=\"1\" class=\"dataframe\">\n",
       "  <thead>\n",
       "    <tr style=\"text-align: right;\">\n",
       "      <th></th>\n",
       "      <th>제조업</th>\n",
       "      <th>4704</th>\n",
       "      <th>4734</th>\n",
       "      <th>4741</th>\n",
       "      <th>4813</th>\n",
       "    </tr>\n",
       "    <tr>\n",
       "      <th>총계</th>\n",
       "      <th></th>\n",
       "      <th></th>\n",
       "      <th></th>\n",
       "      <th></th>\n",
       "      <th></th>\n",
       "    </tr>\n",
       "  </thead>\n",
       "  <tbody>\n",
       "    <tr>\n",
       "      <th>남자</th>\n",
       "      <td>제조업</td>\n",
       "      <td>3432</td>\n",
       "      <td>3461</td>\n",
       "      <td>3491</td>\n",
       "      <td>3537</td>\n",
       "    </tr>\n",
       "    <tr>\n",
       "      <th>여자</th>\n",
       "      <td>제조업</td>\n",
       "      <td>1272</td>\n",
       "      <td>1274</td>\n",
       "      <td>1249</td>\n",
       "      <td>1276</td>\n",
       "    </tr>\n",
       "  </tbody>\n",
       "</table>\n",
       "</div>"
      ],
      "text/plain": [
       "    제조업  4704  4734  4741  4813\n",
       "총계                             \n",
       "남자  제조업  3432  3461  3491  3537\n",
       "여자  제조업  1272  1274  1249  1276"
      ]
     },
     "execution_count": 18,
     "metadata": {},
     "output_type": "execute_result"
    }
   ],
   "source": [
    "df1 = df.set_index(['총계'])\n",
    "df1"
   ]
  },
  {
   "cell_type": "code",
   "execution_count": 30,
   "id": "5dae0c27",
   "metadata": {},
   "outputs": [
    {
     "data": {
      "image/png": "[encoded data removed]",
      "text/plain": [
       "<Figure size 720x720 with 1 Axes>"
      ]
     },
     "metadata": {
      "needs_background": "light"
     },
     "output_type": "display_data"
    }
   ],
   "source": [
    "#그래프 구현\n",
    "# 차트 종류, 제목, 차트 크기, 범례, 폰트 크기 설정\n",
    "ax = df1.plot(kind='bar', title='성별 생산직 취업수', figsize=(10, 10), legend=True, fontsize=20)\n",
    "ax.set_xlabel('성별', fontsize=15)          # x축 정보 표시\n",
    "ax.set_ylabel('생산직 취업수', fontsize=15)     # y축 정보 표시\n",
    "ax.legend(['2017년','2018년','2019년','2020년'], fontsize=20)    # 범례 지정\n",
    "\n",
    "plt.show()"
   ]
  },
  {
   "cell_type": "code",
   "execution_count": null,
   "id": "f1dac858",
   "metadata": {},
   "outputs": [],
   "source": []
  }
 ],
 "metadata": {
  "kernelspec": {
   "display_name": "Python 3 (ipykernel)",
   "language": "python",
   "name": "python3"
  },
  "language_info": {
   "codemirror_mode": {
    "name": "ipython",
    "version": 3
   },
   "file_extension": ".py",
   "mimetype": "text/x-python",
   "name": "python",
   "nbconvert_exporter": "python",
   "pygments_lexer": "ipython3",
   "version": "3.9.12"
  }
 },
 "nbformat": 4,
 "nbformat_minor": 5
}
